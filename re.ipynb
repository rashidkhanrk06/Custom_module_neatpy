{
 "cells": [
  {
   "cell_type": "code",
   "execution_count": 1,
   "id": "63c2e11f",
   "metadata": {},
   "outputs": [],
   "source": [
    "import pandas as pd\n",
    "import neatpy as npy"
   ]
  },
  {
   "cell_type": "code",
   "execution_count": 2,
   "id": "031a2c48",
   "metadata": {},
   "outputs": [],
   "source": [
    "df = pd.read_csv('Netflix.csv')"
   ]
  },
  {
   "cell_type": "code",
   "execution_count": 3,
   "id": "8aca24aa",
   "metadata": {},
   "outputs": [
    {
     "data": {
      "text/html": [
       "<div>\n",
       "<style scoped>\n",
       "    .dataframe tbody tr th:only-of-type {\n",
       "        vertical-align: middle;\n",
       "    }\n",
       "\n",
       "    .dataframe tbody tr th {\n",
       "        vertical-align: top;\n",
       "    }\n",
       "\n",
       "    .dataframe thead th {\n",
       "        text-align: right;\n",
       "    }\n",
       "</style>\n",
       "<table border=\"1\" class=\"dataframe\">\n",
       "  <thead>\n",
       "    <tr style=\"text-align: right;\">\n",
       "      <th></th>\n",
       "      <th>type</th>\n",
       "      <th>title</th>\n",
       "      <th>date_added</th>\n",
       "      <th>release_year</th>\n",
       "      <th>rating</th>\n",
       "      <th>listed_in</th>\n",
       "    </tr>\n",
       "  </thead>\n",
       "  <tbody>\n",
       "    <tr>\n",
       "      <th>0</th>\n",
       "      <td>Movie</td>\n",
       "      <td>**Dick Johnson Is Dead**</td>\n",
       "      <td>9/25/2021</td>\n",
       "      <td>2020)</td>\n",
       "      <td>,?PG-13</td>\n",
       "      <td>Documentaries</td>\n",
       "    </tr>\n",
       "    <tr>\n",
       "      <th>1</th>\n",
       "      <td>TV Show</td>\n",
       "      <td>**Ganglands**</td>\n",
       "      <td>9/24/2021</td>\n",
       "      <td>2021C</td>\n",
       "      <td>,?TV-MA</td>\n",
       "      <td>Crime TV Shows, International TV Shows, TV Act...</td>\n",
       "    </tr>\n",
       "    <tr>\n",
       "      <th>2</th>\n",
       "      <td>TV Show</td>\n",
       "      <td>**Midnight Mass**</td>\n",
       "      <td>9/24/2021</td>\n",
       "      <td>2021c</td>\n",
       "      <td>,?TV-MA</td>\n",
       "      <td>TV Dramas, TV Horror, TV Mysteries</td>\n",
       "    </tr>\n",
       "    <tr>\n",
       "      <th>3</th>\n",
       "      <td>Movie</td>\n",
       "      <td>**Confessions of an Invisible Girl**</td>\n",
       "      <td>9/22/2021</td>\n",
       "      <td>2021</td>\n",
       "      <td>,?TV-PG</td>\n",
       "      <td>Children &amp; Family Movies, Comedies</td>\n",
       "    </tr>\n",
       "    <tr>\n",
       "      <th>4</th>\n",
       "      <td>Movie</td>\n",
       "      <td>**Sankofa**</td>\n",
       "      <td>9/24/2021</td>\n",
       "      <td>1993S</td>\n",
       "      <td>,?TV-MA</td>\n",
       "      <td>Dramas, Independent Movies, International Movies</td>\n",
       "    </tr>\n",
       "  </tbody>\n",
       "</table>\n",
       "</div>"
      ],
      "text/plain": [
       "      type                                 title date_added release_year  \\\n",
       "0    Movie              **Dick Johnson Is Dead**  9/25/2021        2020)   \n",
       "1  TV Show                         **Ganglands**  9/24/2021        2021C   \n",
       "2  TV Show                     **Midnight Mass**  9/24/2021        2021c   \n",
       "3    Movie  **Confessions of an Invisible Girl**  9/22/2021         2021   \n",
       "4    Movie                           **Sankofa**  9/24/2021        1993S   \n",
       "\n",
       "    rating                                          listed_in  \n",
       "0  ,?PG-13                                      Documentaries  \n",
       "1  ,?TV-MA  Crime TV Shows, International TV Shows, TV Act...  \n",
       "2  ,?TV-MA                 TV Dramas, TV Horror, TV Mysteries  \n",
       "3  ,?TV-PG                 Children & Family Movies, Comedies  \n",
       "4  ,?TV-MA   Dramas, Independent Movies, International Movies  "
      ]
     },
     "execution_count": 3,
     "metadata": {},
     "output_type": "execute_result"
    }
   ],
   "source": [
    "df.head()"
   ]
  },
  {
   "cell_type": "code",
   "execution_count": 17,
   "id": "45baacde",
   "metadata": {},
   "outputs": [
    {
     "name": "stdout",
     "output_type": "stream",
     "text": [
      "<class 'pandas.core.frame.DataFrame'>\n",
      "RangeIndex: 4001 entries, 0 to 4000\n",
      "Data columns (total 6 columns):\n",
      " #   Column        Non-Null Count  Dtype \n",
      "---  ------        --------------  ----- \n",
      " 0   type          3934 non-null   object\n",
      " 1   title         4001 non-null   object\n",
      " 2   date_added    4001 non-null   object\n",
      " 3   release_year  4001 non-null   object\n",
      " 4   rating        4001 non-null   object\n",
      " 5   listed_in     4001 non-null   object\n",
      "dtypes: object(6)\n",
      "memory usage: 187.7+ KB\n"
     ]
    }
   ],
   "source": [
    "df.info()"
   ]
  },
  {
   "cell_type": "code",
   "execution_count": 4,
   "id": "0e3d1b52",
   "metadata": {},
   "outputs": [],
   "source": [
    "df.title=npy.to_text(df.title)\n",
    "df['release_year'] = npy.to_integer(df.release_year, dtype='int32')\n",
    "num = [1,2,3,4,5,6,7,9,0]\n",
    "df.rating = npy.to_text(df.rating,keep='-',keep_num=num)"
   ]
  },
  {
   "cell_type": "code",
   "execution_count": 19,
   "id": "3d9f7dcc",
   "metadata": {},
   "outputs": [
    {
     "data": {
      "text/html": [
       "<div>\n",
       "<style scoped>\n",
       "    .dataframe tbody tr th:only-of-type {\n",
       "        vertical-align: middle;\n",
       "    }\n",
       "\n",
       "    .dataframe tbody tr th {\n",
       "        vertical-align: top;\n",
       "    }\n",
       "\n",
       "    .dataframe thead th {\n",
       "        text-align: right;\n",
       "    }\n",
       "</style>\n",
       "<table border=\"1\" class=\"dataframe\">\n",
       "  <thead>\n",
       "    <tr style=\"text-align: right;\">\n",
       "      <th></th>\n",
       "      <th>type</th>\n",
       "      <th>title</th>\n",
       "      <th>date_added</th>\n",
       "      <th>release_year</th>\n",
       "      <th>rating</th>\n",
       "      <th>listed_in</th>\n",
       "    </tr>\n",
       "  </thead>\n",
       "  <tbody>\n",
       "    <tr>\n",
       "      <th>0</th>\n",
       "      <td>Movie</td>\n",
       "      <td>Dick Johnson Is Dead</td>\n",
       "      <td>9/25/2021</td>\n",
       "      <td>2020</td>\n",
       "      <td>PG-13</td>\n",
       "      <td>Documentaries</td>\n",
       "    </tr>\n",
       "    <tr>\n",
       "      <th>1</th>\n",
       "      <td>TV Show</td>\n",
       "      <td>Ganglands</td>\n",
       "      <td>9/24/2021</td>\n",
       "      <td>2021</td>\n",
       "      <td>TV-MA</td>\n",
       "      <td>Crime TV Shows, International TV Shows, TV Act...</td>\n",
       "    </tr>\n",
       "    <tr>\n",
       "      <th>2</th>\n",
       "      <td>TV Show</td>\n",
       "      <td>Midnight Mass</td>\n",
       "      <td>9/24/2021</td>\n",
       "      <td>2021</td>\n",
       "      <td>TV-MA</td>\n",
       "      <td>TV Dramas, TV Horror, TV Mysteries</td>\n",
       "    </tr>\n",
       "    <tr>\n",
       "      <th>3</th>\n",
       "      <td>Movie</td>\n",
       "      <td>Confessions of an Invisible Girl</td>\n",
       "      <td>9/22/2021</td>\n",
       "      <td>2021</td>\n",
       "      <td>TV-PG</td>\n",
       "      <td>Children &amp; Family Movies, Comedies</td>\n",
       "    </tr>\n",
       "    <tr>\n",
       "      <th>4</th>\n",
       "      <td>Movie</td>\n",
       "      <td>Sankofa</td>\n",
       "      <td>9/24/2021</td>\n",
       "      <td>1993</td>\n",
       "      <td>TV-MA</td>\n",
       "      <td>Dramas, Independent Movies, International Movies</td>\n",
       "    </tr>\n",
       "  </tbody>\n",
       "</table>\n",
       "</div>"
      ],
      "text/plain": [
       "      type                             title date_added  release_year rating  \\\n",
       "0    Movie              Dick Johnson Is Dead  9/25/2021          2020  PG-13   \n",
       "1  TV Show                         Ganglands  9/24/2021          2021  TV-MA   \n",
       "2  TV Show                     Midnight Mass  9/24/2021          2021  TV-MA   \n",
       "3    Movie  Confessions of an Invisible Girl  9/22/2021          2021  TV-PG   \n",
       "4    Movie                           Sankofa  9/24/2021          1993  TV-MA   \n",
       "\n",
       "                                           listed_in  \n",
       "0                                      Documentaries  \n",
       "1  Crime TV Shows, International TV Shows, TV Act...  \n",
       "2                 TV Dramas, TV Horror, TV Mysteries  \n",
       "3                 Children & Family Movies, Comedies  \n",
       "4   Dramas, Independent Movies, International Movies  "
      ]
     },
     "execution_count": 19,
     "metadata": {},
     "output_type": "execute_result"
    }
   ],
   "source": [
    "df.head()"
   ]
  },
  {
   "cell_type": "code",
   "execution_count": 5,
   "id": "51be450e",
   "metadata": {},
   "outputs": [
    {
     "name": "stdout",
     "output_type": "stream",
     "text": [
      "<class 'pandas.core.frame.DataFrame'>\n",
      "RangeIndex: 4001 entries, 0 to 4000\n",
      "Data columns (total 6 columns):\n",
      " #   Column        Non-Null Count  Dtype \n",
      "---  ------        --------------  ----- \n",
      " 0   type          3934 non-null   object\n",
      " 1   title         4001 non-null   object\n",
      " 2   date_added    4001 non-null   object\n",
      " 3   release_year  4001 non-null   int32 \n",
      " 4   rating        4001 non-null   object\n",
      " 5   listed_in     4001 non-null   object\n",
      "dtypes: int32(1), object(5)\n",
      "memory usage: 172.0+ KB\n"
     ]
    }
   ],
   "source": [
    "df.info()"
   ]
  },
  {
   "cell_type": "code",
   "execution_count": 2,
   "id": "d02bda77",
   "metadata": {},
   "outputs": [
    {
     "name": "stdout",
     "output_type": "stream",
     "text": [
      "Help on function to_text in module neatpy._NeatPy:\n",
      "\n",
      "to_text(series: pandas.core.series.Series, punct=True, keep=None, keep_num=None) -> pandas.core.series.Series\n",
      "    Remove digits and/or punctuation from a pandas Series of strings with optional preservation of specified characters.\n",
      "    \n",
      "    Parameters:\n",
      "    - series (pd.Series): A pandas Series containing strings.\n",
      "    - punct (bool, optional): If True, remove punctuation along with digits. Default is True.\n",
      "    - keep (str or list, optional): Characters to preserve during the removal process. Can be a string or a list of strings.\n",
      "    - keep_num (int or list, optional): Numbers to preserve during the removal process. Can be an integer or a list of integers.\n",
      "    \n",
      "    Returns:\n",
      "    - pd.Series: A new pandas Series with digits and/or punctuation removed, while preserving specified characters.\n",
      "    \n",
      "    Example:\n",
      "    >>> data = pd.Series(['Hello, 123!', 'World456', 'Python'])\n",
      "    >>> result = to_text(data, punct=True, keep=['o', '5'], keep_num=2)\n",
      "    >>> print(result)\n",
      "    0    Holle\n",
      "    1    Wrd\n",
      "    2    Python\n",
      "    dtype: object\n",
      "\n"
     ]
    }
   ],
   "source": [
    "help(npy.to_text)"
   ]
  },
  {
   "cell_type": "code",
   "execution_count": null,
   "id": "f5d9f6ee",
   "metadata": {},
   "outputs": [],
   "source": []
  }
 ],
 "metadata": {
  "kernelspec": {
   "display_name": "Python 3 (ipykernel)",
   "language": "python",
   "name": "python3"
  },
  "language_info": {
   "codemirror_mode": {
    "name": "ipython",
    "version": 3
   },
   "file_extension": ".py",
   "mimetype": "text/x-python",
   "name": "python",
   "nbconvert_exporter": "python",
   "pygments_lexer": "ipython3",
   "version": "3.9.13"
  }
 },
 "nbformat": 4,
 "nbformat_minor": 5
}
